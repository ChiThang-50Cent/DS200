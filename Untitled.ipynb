{
 "cells": [
  {
   "cell_type": "code",
   "execution_count": 1,
   "id": "20c4dfbc-9853-4266-b0c0-23d4ec70f47b",
   "metadata": {},
   "outputs": [],
   "source": [
    "import findspark\n",
    "findspark.init()\n",
    "\n",
    "from utils import *\n",
    "from clean_data import *\n",
    "from feature_extract import *\n",
    "from pyspark.ml import PipelineModel\n",
    "from pyspark.ml.feature import OneHotEncoderModel"
   ]
  },
  {
   "cell_type": "code",
   "execution_count": 2,
   "id": "76f09c23-36a7-4393-aef1-0c7781d47641",
   "metadata": {},
   "outputs": [
    {
     "name": "stderr",
     "output_type": "stream",
     "text": [
      "23/12/28 18:40:45 WARN Utils: Your hostname, bigdl resolves to a loopback address: 127.0.1.1; using 192.168.241.137 instead (on interface ens33)\n",
      "23/12/28 18:40:45 WARN Utils: Set SPARK_LOCAL_IP if you need to bind to another address\n",
      "23/12/28 18:40:46 WARN NativeCodeLoader: Unable to load native-hadoop library for your platform... using builtin-java classes where applicable\n",
      "Using Spark's default log4j profile: org/apache/spark/log4j-defaults.properties\n",
      "Setting default log level to \"WARN\".\n",
      "To adjust logging level use sc.setLogLevel(newLevel). For SparkR, use setLogLevel(newLevel).\n",
      "23/12/28 18:41:05 WARN package: Truncated the string representation of a plan since it was too large. This behavior can be adjusted by setting 'spark.sql.debug.maxToStringFields'.\n",
      "                                                                                \r"
     ]
    }
   ],
   "source": [
    "spark, sc = initialize_spark()\n",
    "\n",
    "df = spark.read.format('org.apache.spark.sql.json')\\\n",
    "                .load(\"./data/clean/clean.json\")\n",
    "data = df.drop(*['id', 'MoTa'])\n",
    "data = data.fillna(0)\n",
    "pd_df = data.toPandas()"
   ]
  },
  {
   "cell_type": "code",
   "execution_count": 3,
   "id": "f4522842-803e-43ac-b4a0-fda923d63626",
   "metadata": {},
   "outputs": [
    {
     "name": "stderr",
     "output_type": "stream",
     "text": [
      "                                                                                \r"
     ]
    }
   ],
   "source": [
    "string_idx = PipelineModel.load(\"./model/str_idx\")\n",
    "enc_m = OneHotEncoderModel.load(\"./model/ohe_idx\")"
   ]
  },
  {
   "cell_type": "code",
   "execution_count": 4,
   "id": "508d092d-69a2-4fc1-ac84-6291f608ab70",
   "metadata": {},
   "outputs": [],
   "source": [
    "X = data.limit(1)"
   ]
  },
  {
   "cell_type": "code",
   "execution_count": 5,
   "id": "b004b15d-2d57-48f8-ab5a-e69b7e5ed2a1",
   "metadata": {},
   "outputs": [],
   "source": [
    "# %%time\n",
    "# assembled_df = featureExtraction(X, string_idx, enc_m)"
   ]
  },
  {
   "cell_type": "code",
   "execution_count": 6,
   "id": "988e8cfa-83ad-4a5f-8dfd-efabb01ce1f2",
   "metadata": {},
   "outputs": [],
   "source": [
    "# assembled_df.head().features"
   ]
  },
  {
   "cell_type": "code",
   "execution_count": 7,
   "id": "9a0d9e36-9d8c-4770-9344-e068e5963ffc",
   "metadata": {},
   "outputs": [
    {
     "name": "stderr",
     "output_type": "stream",
     "text": [
      "                                                                                \r"
     ]
    }
   ],
   "source": [
    "from pyspark.ml.regression import LinearRegressionModel, RandomForestRegressionModel, GBTRegressionModel, DecisionTreeRegressionModel, IsotonicRegressionModel, FMRegressionModel\n",
    "\n",
    "model_lr_rmo = LinearRegressionModel.load(\"./model/linear_regression/lr_outlierRm\")\n",
    "model_gbt_rmo = GBTRegressionModel.load(\"./model/gradient_boosted/gbt_outlierRm\")"
   ]
  },
  {
   "cell_type": "code",
   "execution_count": 8,
   "id": "fb12cf01-0297-4073-ac3f-24dbcc218005",
   "metadata": {},
   "outputs": [],
   "source": [
    "# model_lr_rmo.predict(assembled_df.head().features)"
   ]
  },
  {
   "cell_type": "code",
   "execution_count": 9,
   "id": "2598d6fa-0df3-4a30-a36c-d175d07d6f24",
   "metadata": {},
   "outputs": [],
   "source": [
    "# assembled_df.head().TongGia"
   ]
  },
  {
   "cell_type": "code",
   "execution_count": 10,
   "id": "31f83c9a-f522-4a5a-9cd8-56dcacdfbb87",
   "metadata": {},
   "outputs": [],
   "source": [
    "# model_gbt_rmo.predict(assembled_df.head().features)"
   ]
  },
  {
   "cell_type": "code",
   "execution_count": 11,
   "id": "5dacc9ea-2b65-42cc-be13-034c7c614553",
   "metadata": {},
   "outputs": [],
   "source": [
    "selected_rows = pd_df.loc[2]"
   ]
  },
  {
   "cell_type": "code",
   "execution_count": 23,
   "id": "0edec1cc-8148-43cc-8033-8d4f21d6536a",
   "metadata": {},
   "outputs": [],
   "source": [
    "import pandas as pd\n",
    "pd.DataFrame.iteritems = pd.DataFrame.items\n",
    "data_submitted = {'LoaiBDS' : 'Đất bán',\n",
    "                'DienTich' : 200,\n",
    "                'Tinh': 'Tây Ninh',\n",
    "                'HienTrangNha': 'Unknowns',\n",
    "                'ViTri': 'Unknowns',\n",
    "                'PhongNgu': 0,\n",
    "                'PhongTam': 0,\n",
    "                'Tang': 1}\n",
    "selected_row = pd.DataFrame(data_submitted, index=[0])"
   ]
  },
  {
   "cell_type": "code",
   "execution_count": 27,
   "id": "4e8b8e60-8712-4b1a-9cd5-25519f8b4579",
   "metadata": {},
   "outputs": [
    {
     "ename": "AnalysisException",
     "evalue": "Cannot resolve column name \"TienIchToaNha\" among (LoaiBDS, DienTich, Tinh, HienTrangNha, ViTri, PhongNgu, PhongTam, Tang)",
     "output_type": "error",
     "traceback": [
      "\u001b[0;31m---------------------------------------------------------------------------\u001b[0m",
      "\u001b[0;31mAnalysisException\u001b[0m                         Traceback (most recent call last)",
      "Cell \u001b[0;32mIn[27], line 3\u001b[0m\n\u001b[1;32m      1\u001b[0m Y \u001b[38;5;241m=\u001b[39m spark\u001b[38;5;241m.\u001b[39mcreateDataFrame(selected_row\u001b[38;5;241m.\u001b[39mastype(\u001b[38;5;28mstr\u001b[39m))\n\u001b[1;32m      2\u001b[0m Y \u001b[38;5;241m=\u001b[39m typeCasting(Y)\n\u001b[0;32m----> 3\u001b[0m Y \u001b[38;5;241m=\u001b[39m \u001b[43mfrom_pd_to_spark\u001b[49m\u001b[43m(\u001b[49m\u001b[43mY\u001b[49m\u001b[43m)\u001b[49m\n",
      "File \u001b[0;32m~/DS200/clean_data.py:187\u001b[0m, in \u001b[0;36mfrom_pd_to_spark\u001b[0;34m(df)\u001b[0m\n\u001b[1;32m    184\u001b[0m convert_to_list_udf \u001b[38;5;241m=\u001b[39m udf(\u001b[38;5;28;01mlambda\u001b[39;00m x: convert_to_list(x), ArrayType(StringType()))\n\u001b[1;32m    186\u001b[0m \u001b[38;5;28;01mfor\u001b[39;00m col \u001b[38;5;129;01min\u001b[39;00m STRUCTURED_COLUMNS:\n\u001b[0;32m--> 187\u001b[0m     df \u001b[38;5;241m=\u001b[39m df\u001b[38;5;241m.\u001b[39mwithColumn(col, convert_to_list_udf(\u001b[43mdf\u001b[49m\u001b[43m[\u001b[49m\u001b[43mcol\u001b[49m\u001b[43m]\u001b[49m))\n\u001b[1;32m    189\u001b[0m \u001b[38;5;28;01mreturn\u001b[39;00m df\n",
      "File \u001b[0;32m~/spark/python/pyspark/sql/dataframe.py:1620\u001b[0m, in \u001b[0;36mDataFrame.__getitem__\u001b[0;34m(self, item)\u001b[0m\n\u001b[1;32m   1604\u001b[0m \u001b[38;5;250m\u001b[39m\u001b[38;5;124;03m\"\"\"Returns the column as a :class:`Column`.\u001b[39;00m\n\u001b[1;32m   1605\u001b[0m \n\u001b[1;32m   1606\u001b[0m \u001b[38;5;124;03m.. versionadded:: 1.3.0\u001b[39;00m\n\u001b[0;32m   (...)\u001b[0m\n\u001b[1;32m   1617\u001b[0m \u001b[38;5;124;03m[Row(age=5, name='Bob')]\u001b[39;00m\n\u001b[1;32m   1618\u001b[0m \u001b[38;5;124;03m\"\"\"\u001b[39;00m\n\u001b[1;32m   1619\u001b[0m \u001b[38;5;28;01mif\u001b[39;00m \u001b[38;5;28misinstance\u001b[39m(item, \u001b[38;5;28mstr\u001b[39m):\n\u001b[0;32m-> 1620\u001b[0m     jc \u001b[38;5;241m=\u001b[39m \u001b[38;5;28;43mself\u001b[39;49m\u001b[38;5;241;43m.\u001b[39;49m\u001b[43m_jdf\u001b[49m\u001b[38;5;241;43m.\u001b[39;49m\u001b[43mapply\u001b[49m\u001b[43m(\u001b[49m\u001b[43mitem\u001b[49m\u001b[43m)\u001b[49m\n\u001b[1;32m   1621\u001b[0m     \u001b[38;5;28;01mreturn\u001b[39;00m Column(jc)\n\u001b[1;32m   1622\u001b[0m \u001b[38;5;28;01melif\u001b[39;00m \u001b[38;5;28misinstance\u001b[39m(item, Column):\n",
      "File \u001b[0;32m~/spark/python/lib/py4j-0.10.9-src.zip/py4j/java_gateway.py:1304\u001b[0m, in \u001b[0;36mJavaMember.__call__\u001b[0;34m(self, *args)\u001b[0m\n\u001b[1;32m   1298\u001b[0m command \u001b[38;5;241m=\u001b[39m proto\u001b[38;5;241m.\u001b[39mCALL_COMMAND_NAME \u001b[38;5;241m+\u001b[39m\\\n\u001b[1;32m   1299\u001b[0m     \u001b[38;5;28mself\u001b[39m\u001b[38;5;241m.\u001b[39mcommand_header \u001b[38;5;241m+\u001b[39m\\\n\u001b[1;32m   1300\u001b[0m     args_command \u001b[38;5;241m+\u001b[39m\\\n\u001b[1;32m   1301\u001b[0m     proto\u001b[38;5;241m.\u001b[39mEND_COMMAND_PART\n\u001b[1;32m   1303\u001b[0m answer \u001b[38;5;241m=\u001b[39m \u001b[38;5;28mself\u001b[39m\u001b[38;5;241m.\u001b[39mgateway_client\u001b[38;5;241m.\u001b[39msend_command(command)\n\u001b[0;32m-> 1304\u001b[0m return_value \u001b[38;5;241m=\u001b[39m \u001b[43mget_return_value\u001b[49m\u001b[43m(\u001b[49m\n\u001b[1;32m   1305\u001b[0m \u001b[43m    \u001b[49m\u001b[43manswer\u001b[49m\u001b[43m,\u001b[49m\u001b[43m \u001b[49m\u001b[38;5;28;43mself\u001b[39;49m\u001b[38;5;241;43m.\u001b[39;49m\u001b[43mgateway_client\u001b[49m\u001b[43m,\u001b[49m\u001b[43m \u001b[49m\u001b[38;5;28;43mself\u001b[39;49m\u001b[38;5;241;43m.\u001b[39;49m\u001b[43mtarget_id\u001b[49m\u001b[43m,\u001b[49m\u001b[43m \u001b[49m\u001b[38;5;28;43mself\u001b[39;49m\u001b[38;5;241;43m.\u001b[39;49m\u001b[43mname\u001b[49m\u001b[43m)\u001b[49m\n\u001b[1;32m   1307\u001b[0m \u001b[38;5;28;01mfor\u001b[39;00m temp_arg \u001b[38;5;129;01min\u001b[39;00m temp_args:\n\u001b[1;32m   1308\u001b[0m     temp_arg\u001b[38;5;241m.\u001b[39m_detach()\n",
      "File \u001b[0;32m~/spark/python/pyspark/sql/utils.py:117\u001b[0m, in \u001b[0;36mcapture_sql_exception.<locals>.deco\u001b[0;34m(*a, **kw)\u001b[0m\n\u001b[1;32m    113\u001b[0m converted \u001b[38;5;241m=\u001b[39m convert_exception(e\u001b[38;5;241m.\u001b[39mjava_exception)\n\u001b[1;32m    114\u001b[0m \u001b[38;5;28;01mif\u001b[39;00m \u001b[38;5;129;01mnot\u001b[39;00m \u001b[38;5;28misinstance\u001b[39m(converted, UnknownException):\n\u001b[1;32m    115\u001b[0m     \u001b[38;5;66;03m# Hide where the exception came from that shows a non-Pythonic\u001b[39;00m\n\u001b[1;32m    116\u001b[0m     \u001b[38;5;66;03m# JVM exception message.\u001b[39;00m\n\u001b[0;32m--> 117\u001b[0m     \u001b[38;5;28;01mraise\u001b[39;00m converted \u001b[38;5;28;01mfrom\u001b[39;00m \u001b[38;5;28;01mNone\u001b[39;00m\n\u001b[1;32m    118\u001b[0m \u001b[38;5;28;01melse\u001b[39;00m:\n\u001b[1;32m    119\u001b[0m     \u001b[38;5;28;01mraise\u001b[39;00m\n",
      "\u001b[0;31mAnalysisException\u001b[0m: Cannot resolve column name \"TienIchToaNha\" among (LoaiBDS, DienTich, Tinh, HienTrangNha, ViTri, PhongNgu, PhongTam, Tang)"
     ]
    }
   ],
   "source": [
    "Y = spark.createDataFrame(selected_row.astype(str))\n",
    "Y = typeCasting(Y)\n",
    "Y = from_pd_to_spark(Y)"
   ]
  },
  {
   "cell_type": "code",
   "execution_count": 19,
   "id": "030ffa73-b081-4673-97c6-1567e72e46ca",
   "metadata": {},
   "outputs": [
    {
     "name": "stderr",
     "output_type": "stream",
     "text": [
      "                                                                                \r"
     ]
    }
   ],
   "source": [
    "y = featureExtraction(Y, string_idx, enc_m)"
   ]
  },
  {
   "cell_type": "code",
   "execution_count": 21,
   "id": "2ccaf662-ee44-4ee5-b060-995cbb3420d2",
   "metadata": {},
   "outputs": [
    {
     "name": "stderr",
     "output_type": "stream",
     "text": [
      "                                                                                \r"
     ]
    },
    {
     "data": {
      "text/plain": [
       "Row(ChieuDai=9.600000381469727, ChieuRong=5.5, DiaChi='Tây Thạnh, Phường Tây Thạnh, Quận Tân Phú, TP. Hồ Chí Minh', DienTich=48.0, DuongVao=2.5, Gia/m2=79.16999816894531, MaTin='15475', NamXayDung=2021, NgayDangBan='11/07/2022, 23:27', NguoiDangban='Thông Phạm', TongGia=3800.0, Id_NguoiDangban_level=0.0, AnNinh_ohe=DenseVector([0.0, 1.0]), DuongVaoBds_ohe=SparseVector(4, {1: 1.0}), HangXom_ohe=DenseVector([1.0, 0.0]), NoiThat,TienNghi_ohe=SparseVector(20, {17: 1.0}), TienIchGanDat_ohe=SparseVector(21, {}), TienIchLanCan_ohe=SparseVector(29, {4: 1.0}), TienIchToaNha_ohe=SparseVector(13, {}), Huyen_ohe=SparseVector(3, {}), Tinh_ohe=SparseVector(4, {}), Xa_ohe=SparseVector(3, {}), GiayToPhapLy_ohe=SparseVector(4, {0: 1.0}), HienTrangNha_ohe=SparseVector(3, {1: 1.0}), Huong_ohe=SparseVector(8, {0: 1.0}), HuongBanCong_ohe=SparseVector(8, {0: 1.0}), KetCau_ohe=SparseVector(6, {4: 1.0}), LoaiBDS_ohe=SparseVector(11, {0: 1.0}), PhongNgu_ohe=SparseVector(6, {1: 1.0}), PhongTam_ohe=SparseVector(6, {4: 1.0}), SoTang_ohe=SparseVector(4, {1: 1.0}), TrangThaiSuDung_ohe=SparseVector(2, {1: 1.0}), ViTri_ohe=SparseVector(2, {}), features=SparseVector(167, {0: 9.6, 1: 5.5, 2: 48.0, 3: 2.5, 4: 2021.0, 7: 1.0, 9: 1.0, 12: 1.0, 31: 1.0, 59: 1.0, 107: 1.0, 112: 1.0, 114: 1.0, 122: 1.0, 134: 1.0, 136: 1.0, 148: 1.0, 157: 1.0, 160: 1.0, 164: 1.0}))"
      ]
     },
     "execution_count": 21,
     "metadata": {},
     "output_type": "execute_result"
    }
   ],
   "source": [
    "y.head()"
   ]
  },
  {
   "cell_type": "code",
   "execution_count": 22,
   "id": "d34223b5-2bde-4b17-b4dd-d4bfa37ce737",
   "metadata": {},
   "outputs": [
    {
     "data": {
      "text/plain": [
       "pandas.core.series.Series"
      ]
     },
     "execution_count": 22,
     "metadata": {},
     "output_type": "execute_result"
    }
   ],
   "source": [
    "type(selected_rows)"
   ]
  },
  {
   "cell_type": "code",
   "execution_count": null,
   "id": "1ef1a7f0-8a95-41df-90b2-bc96f12fe52e",
   "metadata": {},
   "outputs": [],
   "source": []
  }
 ],
 "metadata": {
  "kernelspec": {
   "display_name": "Python 3 (ipykernel)",
   "language": "python",
   "name": "python3"
  },
  "language_info": {
   "codemirror_mode": {
    "name": "ipython",
    "version": 3
   },
   "file_extension": ".py",
   "mimetype": "text/x-python",
   "name": "python",
   "nbconvert_exporter": "python",
   "pygments_lexer": "ipython3",
   "version": "3.9.5"
  }
 },
 "nbformat": 4,
 "nbformat_minor": 5
}
