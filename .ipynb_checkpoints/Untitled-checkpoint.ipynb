{
 "cells": [
  {
   "cell_type": "code",
   "execution_count": 12,
   "id": "20c4dfbc-9853-4266-b0c0-23d4ec70f47b",
   "metadata": {},
   "outputs": [],
   "source": [
    "import findspark\n",
    "findspark.init()\n",
    "\n",
    "from utils import *\n",
    "from feature_extract import *"
   ]
  },
  {
   "cell_type": "code",
   "execution_count": 2,
   "id": "76f09c23-36a7-4393-aef1-0c7781d47641",
   "metadata": {},
   "outputs": [
    {
     "name": "stderr",
     "output_type": "stream",
     "text": [
      "23/12/28 09:49:49 WARN Utils: Your hostname, bigdl resolves to a loopback address: 127.0.1.1; using 192.168.241.137 instead (on interface ens33)\n",
      "23/12/28 09:49:49 WARN Utils: Set SPARK_LOCAL_IP if you need to bind to another address\n",
      "23/12/28 09:49:51 WARN NativeCodeLoader: Unable to load native-hadoop library for your platform... using builtin-java classes where applicable\n",
      "Using Spark's default log4j profile: org/apache/spark/log4j-defaults.properties\n",
      "Setting default log level to \"WARN\".\n",
      "To adjust logging level use sc.setLogLevel(newLevel). For SparkR, use setLogLevel(newLevel).\n",
      "23/12/28 09:50:20 WARN package: Truncated the string representation of a plan since it was too large. This behavior can be adjusted by setting 'spark.sql.debug.maxToStringFields'.\n",
      "                                                                                \r"
     ]
    }
   ],
   "source": [
    "spark, sc = initialize_spark()\n",
    "\n",
    "df = spark.read.format('org.apache.spark.sql.json')\\\n",
    "                .load(\"./data/clean/clean.json\")\n",
    "data = df.drop(*['id', 'MoTa'])\n",
    "data = data.fillna(0)\n",
    "pd_df = data.toPandas()"
   ]
  },
  {
   "cell_type": "code",
   "execution_count": 3,
   "id": "d9b6df54-ffc6-40f7-b2d9-78b2ef2c94d3",
   "metadata": {},
   "outputs": [],
   "source": [
    "df1 = binningDistribute(data)"
   ]
  },
  {
   "cell_type": "code",
   "execution_count": 4,
   "id": "5f6c07ba-fbc9-4fb1-a52b-2799f1a8c95b",
   "metadata": {},
   "outputs": [],
   "source": [
    "df2 = getAdministrative(df1, vectorize=False)"
   ]
  },
  {
   "cell_type": "code",
   "execution_count": 5,
   "id": "10697ab4-e316-429a-a4a4-a9714f81f3e1",
   "metadata": {},
   "outputs": [
    {
     "name": "stderr",
     "output_type": "stream",
     "text": [
      "                                                                                \r"
     ]
    }
   ],
   "source": [
    "df3, stringIndexs = getDummy(df2, vectorize=False)"
   ]
  },
  {
   "cell_type": "code",
   "execution_count": 6,
   "id": "0fb63ed7-cbf6-4ef5-a7ca-06af1ec6de07",
   "metadata": {},
   "outputs": [
    {
     "name": "stderr",
     "output_type": "stream",
     "text": [
      "                                                                                \r"
     ]
    }
   ],
   "source": [
    "df4, encodes = OHEtransform(df3, vectorize=False)"
   ]
  },
  {
   "cell_type": "code",
   "execution_count": 14,
   "id": "01eb0f81-0c63-438b-918c-63de6b70c82e",
   "metadata": {},
   "outputs": [
    {
     "ename": "NameError",
     "evalue": "name 'StringType' is not defined",
     "output_type": "error",
     "traceback": [
      "\u001b[0;31m---------------------------------------------------------------------------\u001b[0m",
      "\u001b[0;31mNameError\u001b[0m                                 Traceback (most recent call last)",
      "Cell \u001b[0;32mIn[14], line 2\u001b[0m\n\u001b[1;32m      1\u001b[0m \u001b[38;5;28;01mfrom\u001b[39;00m \u001b[38;5;21;01mpyspark\u001b[39;00m\u001b[38;5;21;01m.\u001b[39;00m\u001b[38;5;21;01msql\u001b[39;00m\u001b[38;5;21;01m.\u001b[39;00m\u001b[38;5;21;01mtypes\u001b[39;00m \u001b[38;5;28;01mimport\u001b[39;00m StringType\n\u001b[0;32m----> 2\u001b[0m df5, encodes_dm \u001b[38;5;241m=\u001b[39m \u001b[43mgetEncodedDummy\u001b[49m\u001b[43m(\u001b[49m\u001b[43mdf4\u001b[49m\u001b[43m)\u001b[49m\n",
      "File \u001b[0;32m~/DS200/feature_extract.py:217\u001b[0m, in \u001b[0;36mgetEncodedDummy\u001b[0;34m(df, keepInput, isPredict, encoder_m)\u001b[0m\n\u001b[1;32m    214\u001b[0m idxList \u001b[38;5;241m=\u001b[39m [i \u001b[38;5;28;01mfor\u001b[39;00m i \u001b[38;5;129;01min\u001b[39;00m df\u001b[38;5;241m.\u001b[39mcolumns \u001b[38;5;28;01mif\u001b[39;00m pat\u001b[38;5;241m.\u001b[39mmatch(i)]\n\u001b[1;32m    215\u001b[0m oheList \u001b[38;5;241m=\u001b[39m [sub\u001b[38;5;241m.\u001b[39mreplace(\u001b[38;5;124m'\u001b[39m\u001b[38;5;124midx\u001b[39m\u001b[38;5;124m'\u001b[39m, \u001b[38;5;124m'\u001b[39m\u001b[38;5;124mohe\u001b[39m\u001b[38;5;124m'\u001b[39m) \u001b[38;5;28;01mfor\u001b[39;00m sub \u001b[38;5;129;01min\u001b[39;00m idxList]\n\u001b[0;32m--> 217\u001b[0m transform_empty \u001b[38;5;241m=\u001b[39m udf(\u001b[38;5;28;01mlambda\u001b[39;00m s: \u001b[38;5;124m\"\u001b[39m\u001b[38;5;124mNA\u001b[39m\u001b[38;5;124m\"\u001b[39m \u001b[38;5;28;01mif\u001b[39;00m s \u001b[38;5;241m==\u001b[39m \u001b[38;5;124m\"\u001b[39m\u001b[38;5;124m\"\u001b[39m \u001b[38;5;28;01melse\u001b[39;00m s, \u001b[43mStringType\u001b[49m())\n\u001b[1;32m    218\u001b[0m \u001b[38;5;28;01mfor\u001b[39;00m col \u001b[38;5;129;01min\u001b[39;00m idxList:\n\u001b[1;32m    219\u001b[0m     df \u001b[38;5;241m=\u001b[39m df\u001b[38;5;241m.\u001b[39mwithColumn(col, transform_empty(col))\n",
      "\u001b[0;31mNameError\u001b[0m: name 'StringType' is not defined"
     ]
    }
   ],
   "source": [
    "df5, encodes_dm = getEncodedDummy(df4)"
   ]
  },
  {
   "cell_type": "code",
   "execution_count": 19,
   "id": "15c35005-1f6a-4b76-91e9-bcc1e68f68ca",
   "metadata": {},
   "outputs": [
    {
     "data": {
      "text/plain": [
       "33"
      ]
     },
     "execution_count": 19,
     "metadata": {},
     "output_type": "execute_result"
    }
   ],
   "source": [
    "features = df4.columns\n",
    "features = [ele for ele in features if ele not in ['MaTin','TongGia','Gia/m2']]\n",
    "assembler = VectorAssembler(inputCols = features, outputCol=\"features\")"
   ]
  },
  {
   "cell_type": "code",
   "execution_count": null,
   "id": "12f43f76-0683-47c6-88b3-7bd8fa952f86",
   "metadata": {},
   "outputs": [],
   "source": []
  }
 ],
 "metadata": {
  "kernelspec": {
   "display_name": "Python 3 (ipykernel)",
   "language": "python",
   "name": "python3"
  },
  "language_info": {
   "codemirror_mode": {
    "name": "ipython",
    "version": 3
   },
   "file_extension": ".py",
   "mimetype": "text/x-python",
   "name": "python",
   "nbconvert_exporter": "python",
   "pygments_lexer": "ipython3",
   "version": "3.9.5"
  }
 },
 "nbformat": 4,
 "nbformat_minor": 5
}
